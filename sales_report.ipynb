{
 "cells": [
  {
   "cell_type": "markdown",
   "metadata": {},
   "source": [
    "Problem statement (SMART)"
   ]
  },
  {
   "cell_type": "markdown",
   "metadata": {},
   "source": [
    "\n",
    "1. Specific\n",
    "- Meningkatkan pendapatan dari data perilaku danb preferensi pelanggan\n",
    "2. Measurable\n",
    "- Meningkatkan 20% penjualan \n",
    "3. Achievable\n",
    "- Meningkatkan penjualan menu berdasarkan trend yang sedang berlangsung\n",
    "4. Relevant\n",
    "- Meningkatkan potensi dari menu yang sedang trend dapat meningkatkan pendapatan restoran\n",
    "5. Time Bound\n",
    "- Dapat dicapai pada quarter selanjutnya"
   ]
  },
  {
   "cell_type": "markdown",
   "metadata": {},
   "source": [
    "Identifikasi Masalah"
   ]
  },
  {
   "cell_type": "markdown",
   "metadata": {},
   "source": [
    "Topik permasalahan\n",
    "- Sebagai data scientist, client kali ini berasal dari restoran di India yang memiliki data untuk diolah dan meminta insight atas data yang akan diolah tersebut, sehingga dari insight tersebut restoran dapat mengetahui bagaimana preferensi pelanggan, apa yang perlu ditingkatkan, atau diperbaiki agar dapat mengoptimalkan pemasukan restoran.\n",
    "\n",
    "Problem statement\n",
    "- Mengetahui Preferensi dan Perilaku Konsumsi Makanan dan minuman di Balaji Fast Food di India dalam kurun waktu tahun 2022-2023\n",
    "\n",
    "1. Makanan apa yang menjadi sumber pemasukan terbesar restoran?\n",
    "2. Minuman apa yang menjadi pemasukan terbesar restoran\n",
    "3. Bagaimana perilaku pemilihan makanan dan minuman berdasarkan waktu pembelian?\n",
    "4. Bagaimana perilaku pemiilihan minuman berdasarkan waktu pembelian?\n",
    "5. Apakah kuantitas berpengaruh pada jumlah transaksi yang dikeluarkan?\n",
    "\n"
   ]
  },
  {
   "cell_type": "markdown",
   "metadata": {},
   "source": [
    "Data loading\n",
    "- Dataset ini berasal dari kaggle\n",
    "- https://www.kaggle.com/datasets/rajatsurana979/fast-food-sales-report/data"
   ]
  },
  {
   "cell_type": "code",
   "execution_count": 2,
   "metadata": {},
   "outputs": [
    {
     "data": {
      "text/html": [
       "<div>\n",
       "<style scoped>\n",
       "    .dataframe tbody tr th:only-of-type {\n",
       "        vertical-align: middle;\n",
       "    }\n",
       "\n",
       "    .dataframe tbody tr th {\n",
       "        vertical-align: top;\n",
       "    }\n",
       "\n",
       "    .dataframe thead th {\n",
       "        text-align: right;\n",
       "    }\n",
       "</style>\n",
       "<table border=\"1\" class=\"dataframe\">\n",
       "  <thead>\n",
       "    <tr style=\"text-align: right;\">\n",
       "      <th></th>\n",
       "      <th>order_id</th>\n",
       "      <th>date</th>\n",
       "      <th>item_name</th>\n",
       "      <th>item_type</th>\n",
       "      <th>item_price</th>\n",
       "      <th>quantity</th>\n",
       "      <th>transaction_amount</th>\n",
       "      <th>transaction_type</th>\n",
       "      <th>received_by</th>\n",
       "      <th>time_of_sale</th>\n",
       "    </tr>\n",
       "  </thead>\n",
       "  <tbody>\n",
       "    <tr>\n",
       "      <th>0</th>\n",
       "      <td>1</td>\n",
       "      <td>07-03-2022</td>\n",
       "      <td>Aalopuri</td>\n",
       "      <td>Fastfood</td>\n",
       "      <td>20</td>\n",
       "      <td>13</td>\n",
       "      <td>260</td>\n",
       "      <td>NaN</td>\n",
       "      <td>Mr.</td>\n",
       "      <td>Night</td>\n",
       "    </tr>\n",
       "    <tr>\n",
       "      <th>1</th>\n",
       "      <td>2</td>\n",
       "      <td>8/23/2022</td>\n",
       "      <td>Vadapav</td>\n",
       "      <td>Fastfood</td>\n",
       "      <td>20</td>\n",
       "      <td>15</td>\n",
       "      <td>300</td>\n",
       "      <td>Cash</td>\n",
       "      <td>Mr.</td>\n",
       "      <td>Afternoon</td>\n",
       "    </tr>\n",
       "    <tr>\n",
       "      <th>2</th>\n",
       "      <td>3</td>\n",
       "      <td>11/20/2022</td>\n",
       "      <td>Vadapav</td>\n",
       "      <td>Fastfood</td>\n",
       "      <td>20</td>\n",
       "      <td>1</td>\n",
       "      <td>20</td>\n",
       "      <td>Cash</td>\n",
       "      <td>Mr.</td>\n",
       "      <td>Afternoon</td>\n",
       "    </tr>\n",
       "    <tr>\n",
       "      <th>3</th>\n",
       "      <td>4</td>\n",
       "      <td>02-03-2023</td>\n",
       "      <td>Sugarcane juice</td>\n",
       "      <td>Beverages</td>\n",
       "      <td>25</td>\n",
       "      <td>6</td>\n",
       "      <td>150</td>\n",
       "      <td>Online</td>\n",
       "      <td>Mr.</td>\n",
       "      <td>Night</td>\n",
       "    </tr>\n",
       "    <tr>\n",
       "      <th>4</th>\n",
       "      <td>5</td>\n",
       "      <td>10-02-2022</td>\n",
       "      <td>Sugarcane juice</td>\n",
       "      <td>Beverages</td>\n",
       "      <td>25</td>\n",
       "      <td>8</td>\n",
       "      <td>200</td>\n",
       "      <td>Online</td>\n",
       "      <td>Mr.</td>\n",
       "      <td>Evening</td>\n",
       "    </tr>\n",
       "  </tbody>\n",
       "</table>\n",
       "</div>"
      ],
      "text/plain": [
       "   order_id        date        item_name  item_type  item_price  quantity  \\\n",
       "0         1  07-03-2022         Aalopuri   Fastfood          20        13   \n",
       "1         2   8/23/2022          Vadapav   Fastfood          20        15   \n",
       "2         3  11/20/2022          Vadapav   Fastfood          20         1   \n",
       "3         4  02-03-2023  Sugarcane juice  Beverages          25         6   \n",
       "4         5  10-02-2022  Sugarcane juice  Beverages          25         8   \n",
       "\n",
       "   transaction_amount transaction_type received_by time_of_sale  \n",
       "0                 260              NaN         Mr.        Night  \n",
       "1                 300             Cash         Mr.    Afternoon  \n",
       "2                  20             Cash         Mr.    Afternoon  \n",
       "3                 150           Online         Mr.        Night  \n",
       "4                 200           Online         Mr.      Evening  "
      ]
     },
     "execution_count": 2,
     "metadata": {},
     "output_type": "execute_result"
    }
   ],
   "source": [
    "# read dataset\n",
    "\n",
    "import pandas as pd\n",
    "\n",
    "df = pd.read_csv('Balaji Fast Food Sales.csv')\n",
    "\n",
    "df.head()"
   ]
  },
  {
   "cell_type": "code",
   "execution_count": 3,
   "metadata": {},
   "outputs": [
    {
     "name": "stdout",
     "output_type": "stream",
     "text": [
      "['Aalopuri' 'Vadapav' 'Sugarcane juice' 'Panipuri' 'Frankie' 'Sandwich'\n",
      " 'Cold coffee']\n",
      "['Fastfood' 'Beverages']\n",
      "[20 25 50 60 40]\n"
     ]
    }
   ],
   "source": [
    "print(df['item_name'].unique())\n",
    "\n",
    "print(df['item_type'].unique())\n",
    "\n",
    "print(df['item_price'].unique())"
   ]
  },
  {
   "cell_type": "markdown",
   "metadata": {},
   "source": [
    "- Hanya terdapat 2 kategori menu yaitu fastfood, dan beverages\n",
    "- Terdapat 7 menu yang terdiri dari 5 makanan yaitu Aalopuri, Vadapav, Panipuri, Frankie, Sandwich\n",
    "dan 2 jenis minuman yaitu Sugarcane juice dan Cold coffee"
   ]
  },
  {
   "cell_type": "markdown",
   "metadata": {},
   "source": [
    "Data cleaning"
   ]
  },
  {
   "cell_type": "code",
   "execution_count": 4,
   "metadata": {},
   "outputs": [
    {
     "name": "stdout",
     "output_type": "stream",
     "text": [
      "order_id                0\n",
      "date                    0\n",
      "item_name               0\n",
      "item_type               0\n",
      "item_price              0\n",
      "quantity                0\n",
      "transaction_amount      0\n",
      "transaction_type      107\n",
      "received_by             0\n",
      "time_of_sale            0\n",
      "dtype: int64\n"
     ]
    }
   ],
   "source": [
    "null_count = df.isnull().sum()\n",
    "print(null_count)"
   ]
  },
  {
   "cell_type": "code",
   "execution_count": 5,
   "metadata": {},
   "outputs": [
    {
     "data": {
      "text/plain": [
       "order_id              0\n",
       "date                  0\n",
       "item_name             0\n",
       "item_type             0\n",
       "item_price            0\n",
       "quantity              0\n",
       "transaction_amount    0\n",
       "transaction_type      0\n",
       "received_by           0\n",
       "time_of_sale          0\n",
       "dtype: int64"
      ]
     },
     "execution_count": 5,
     "metadata": {},
     "output_type": "execute_result"
    }
   ],
   "source": [
    "# drop missing value \n",
    "\n",
    "new_df = df.dropna()\n",
    "\n",
    "new_df.isnull().sum()"
   ]
  },
  {
   "cell_type": "code",
   "execution_count": 6,
   "metadata": {},
   "outputs": [],
   "source": [
    "new_df.to_csv('balaji_fast_food_sales.csv', index=False)"
   ]
  },
  {
   "cell_type": "code",
   "execution_count": 7,
   "metadata": {},
   "outputs": [
    {
     "data": {
      "text/html": [
       "<div>\n",
       "<style scoped>\n",
       "    .dataframe tbody tr th:only-of-type {\n",
       "        vertical-align: middle;\n",
       "    }\n",
       "\n",
       "    .dataframe tbody tr th {\n",
       "        vertical-align: top;\n",
       "    }\n",
       "\n",
       "    .dataframe thead th {\n",
       "        text-align: right;\n",
       "    }\n",
       "</style>\n",
       "<table border=\"1\" class=\"dataframe\">\n",
       "  <thead>\n",
       "    <tr style=\"text-align: right;\">\n",
       "      <th></th>\n",
       "      <th>order_id</th>\n",
       "      <th>date</th>\n",
       "      <th>item_name</th>\n",
       "      <th>item_type</th>\n",
       "      <th>item_price</th>\n",
       "      <th>quantity</th>\n",
       "      <th>transaction_amount</th>\n",
       "      <th>transaction_type</th>\n",
       "      <th>received_by</th>\n",
       "      <th>time_of_sale</th>\n",
       "    </tr>\n",
       "  </thead>\n",
       "  <tbody>\n",
       "    <tr>\n",
       "      <th>0</th>\n",
       "      <td>2</td>\n",
       "      <td>8/23/2022</td>\n",
       "      <td>Vadapav</td>\n",
       "      <td>Fastfood</td>\n",
       "      <td>20</td>\n",
       "      <td>15</td>\n",
       "      <td>300</td>\n",
       "      <td>Cash</td>\n",
       "      <td>Mr.</td>\n",
       "      <td>Afternoon</td>\n",
       "    </tr>\n",
       "    <tr>\n",
       "      <th>1</th>\n",
       "      <td>3</td>\n",
       "      <td>11/20/2022</td>\n",
       "      <td>Vadapav</td>\n",
       "      <td>Fastfood</td>\n",
       "      <td>20</td>\n",
       "      <td>1</td>\n",
       "      <td>20</td>\n",
       "      <td>Cash</td>\n",
       "      <td>Mr.</td>\n",
       "      <td>Afternoon</td>\n",
       "    </tr>\n",
       "    <tr>\n",
       "      <th>2</th>\n",
       "      <td>4</td>\n",
       "      <td>02-03-2023</td>\n",
       "      <td>Sugarcane juice</td>\n",
       "      <td>Beverages</td>\n",
       "      <td>25</td>\n",
       "      <td>6</td>\n",
       "      <td>150</td>\n",
       "      <td>Online</td>\n",
       "      <td>Mr.</td>\n",
       "      <td>Night</td>\n",
       "    </tr>\n",
       "    <tr>\n",
       "      <th>3</th>\n",
       "      <td>5</td>\n",
       "      <td>10-02-2022</td>\n",
       "      <td>Sugarcane juice</td>\n",
       "      <td>Beverages</td>\n",
       "      <td>25</td>\n",
       "      <td>8</td>\n",
       "      <td>200</td>\n",
       "      <td>Online</td>\n",
       "      <td>Mr.</td>\n",
       "      <td>Evening</td>\n",
       "    </tr>\n",
       "    <tr>\n",
       "      <th>4</th>\n",
       "      <td>6</td>\n",
       "      <td>11/14/2022</td>\n",
       "      <td>Vadapav</td>\n",
       "      <td>Fastfood</td>\n",
       "      <td>20</td>\n",
       "      <td>10</td>\n",
       "      <td>200</td>\n",
       "      <td>Cash</td>\n",
       "      <td>Mr.</td>\n",
       "      <td>Evening</td>\n",
       "    </tr>\n",
       "  </tbody>\n",
       "</table>\n",
       "</div>"
      ],
      "text/plain": [
       "   order_id        date        item_name  item_type  item_price  quantity  \\\n",
       "0         2   8/23/2022          Vadapav   Fastfood          20        15   \n",
       "1         3  11/20/2022          Vadapav   Fastfood          20         1   \n",
       "2         4  02-03-2023  Sugarcane juice  Beverages          25         6   \n",
       "3         5  10-02-2022  Sugarcane juice  Beverages          25         8   \n",
       "4         6  11/14/2022          Vadapav   Fastfood          20        10   \n",
       "\n",
       "   transaction_amount transaction_type received_by time_of_sale  \n",
       "0                 300             Cash         Mr.    Afternoon  \n",
       "1                  20             Cash         Mr.    Afternoon  \n",
       "2                 150           Online         Mr.        Night  \n",
       "3                 200           Online         Mr.      Evening  \n",
       "4                 200             Cash         Mr.      Evening  "
      ]
     },
     "execution_count": 7,
     "metadata": {},
     "output_type": "execute_result"
    }
   ],
   "source": [
    "new_df = pd.read_csv('balaji_fast_food_sales.csv')\n",
    "new_df.head()"
   ]
  },
  {
   "cell_type": "code",
   "execution_count": 8,
   "metadata": {},
   "outputs": [
    {
     "data": {
      "text/html": [
       "<div>\n",
       "<style scoped>\n",
       "    .dataframe tbody tr th:only-of-type {\n",
       "        vertical-align: middle;\n",
       "    }\n",
       "\n",
       "    .dataframe tbody tr th {\n",
       "        vertical-align: top;\n",
       "    }\n",
       "\n",
       "    .dataframe thead th {\n",
       "        text-align: right;\n",
       "    }\n",
       "</style>\n",
       "<table border=\"1\" class=\"dataframe\">\n",
       "  <thead>\n",
       "    <tr style=\"text-align: right;\">\n",
       "      <th></th>\n",
       "      <th>order_id</th>\n",
       "      <th>date</th>\n",
       "      <th>item_name</th>\n",
       "      <th>item_type</th>\n",
       "      <th>item_price</th>\n",
       "      <th>quantity</th>\n",
       "      <th>transaction_amount</th>\n",
       "      <th>transaction_type</th>\n",
       "      <th>received_by</th>\n",
       "      <th>time_of_sale</th>\n",
       "    </tr>\n",
       "  </thead>\n",
       "  <tbody>\n",
       "    <tr>\n",
       "      <th>0</th>\n",
       "      <td>2</td>\n",
       "      <td>8-23-2022</td>\n",
       "      <td>Vadapav</td>\n",
       "      <td>Fastfood</td>\n",
       "      <td>20</td>\n",
       "      <td>15</td>\n",
       "      <td>300</td>\n",
       "      <td>Cash</td>\n",
       "      <td>Mr.</td>\n",
       "      <td>Afternoon</td>\n",
       "    </tr>\n",
       "    <tr>\n",
       "      <th>1</th>\n",
       "      <td>3</td>\n",
       "      <td>11-20-2022</td>\n",
       "      <td>Vadapav</td>\n",
       "      <td>Fastfood</td>\n",
       "      <td>20</td>\n",
       "      <td>1</td>\n",
       "      <td>20</td>\n",
       "      <td>Cash</td>\n",
       "      <td>Mr.</td>\n",
       "      <td>Afternoon</td>\n",
       "    </tr>\n",
       "    <tr>\n",
       "      <th>2</th>\n",
       "      <td>4</td>\n",
       "      <td>02-03-2023</td>\n",
       "      <td>Sugarcane juice</td>\n",
       "      <td>Beverages</td>\n",
       "      <td>25</td>\n",
       "      <td>6</td>\n",
       "      <td>150</td>\n",
       "      <td>Online</td>\n",
       "      <td>Mr.</td>\n",
       "      <td>Night</td>\n",
       "    </tr>\n",
       "    <tr>\n",
       "      <th>3</th>\n",
       "      <td>5</td>\n",
       "      <td>10-02-2022</td>\n",
       "      <td>Sugarcane juice</td>\n",
       "      <td>Beverages</td>\n",
       "      <td>25</td>\n",
       "      <td>8</td>\n",
       "      <td>200</td>\n",
       "      <td>Online</td>\n",
       "      <td>Mr.</td>\n",
       "      <td>Evening</td>\n",
       "    </tr>\n",
       "    <tr>\n",
       "      <th>4</th>\n",
       "      <td>6</td>\n",
       "      <td>11-14-2022</td>\n",
       "      <td>Vadapav</td>\n",
       "      <td>Fastfood</td>\n",
       "      <td>20</td>\n",
       "      <td>10</td>\n",
       "      <td>200</td>\n",
       "      <td>Cash</td>\n",
       "      <td>Mr.</td>\n",
       "      <td>Evening</td>\n",
       "    </tr>\n",
       "    <tr>\n",
       "      <th>...</th>\n",
       "      <td>...</td>\n",
       "      <td>...</td>\n",
       "      <td>...</td>\n",
       "      <td>...</td>\n",
       "      <td>...</td>\n",
       "      <td>...</td>\n",
       "      <td>...</td>\n",
       "      <td>...</td>\n",
       "      <td>...</td>\n",
       "      <td>...</td>\n",
       "    </tr>\n",
       "    <tr>\n",
       "      <th>888</th>\n",
       "      <td>992</td>\n",
       "      <td>10-21-2022</td>\n",
       "      <td>Sandwich</td>\n",
       "      <td>Fastfood</td>\n",
       "      <td>60</td>\n",
       "      <td>5</td>\n",
       "      <td>300</td>\n",
       "      <td>Cash</td>\n",
       "      <td>Mr.</td>\n",
       "      <td>Morning</td>\n",
       "    </tr>\n",
       "    <tr>\n",
       "      <th>889</th>\n",
       "      <td>993</td>\n",
       "      <td>7-17-2022</td>\n",
       "      <td>Frankie</td>\n",
       "      <td>Fastfood</td>\n",
       "      <td>50</td>\n",
       "      <td>3</td>\n",
       "      <td>150</td>\n",
       "      <td>Online</td>\n",
       "      <td>Mrs.</td>\n",
       "      <td>Night</td>\n",
       "    </tr>\n",
       "    <tr>\n",
       "      <th>890</th>\n",
       "      <td>994</td>\n",
       "      <td>11-01-2022</td>\n",
       "      <td>Panipuri</td>\n",
       "      <td>Fastfood</td>\n",
       "      <td>20</td>\n",
       "      <td>2</td>\n",
       "      <td>40</td>\n",
       "      <td>Online</td>\n",
       "      <td>Mrs.</td>\n",
       "      <td>Evening</td>\n",
       "    </tr>\n",
       "    <tr>\n",
       "      <th>891</th>\n",
       "      <td>995</td>\n",
       "      <td>6-18-2022</td>\n",
       "      <td>Sugarcane juice</td>\n",
       "      <td>Beverages</td>\n",
       "      <td>25</td>\n",
       "      <td>1</td>\n",
       "      <td>25</td>\n",
       "      <td>Online</td>\n",
       "      <td>Mr.</td>\n",
       "      <td>Night</td>\n",
       "    </tr>\n",
       "    <tr>\n",
       "      <th>892</th>\n",
       "      <td>1000</td>\n",
       "      <td>5-29-2022</td>\n",
       "      <td>Aalopuri</td>\n",
       "      <td>Fastfood</td>\n",
       "      <td>20</td>\n",
       "      <td>3</td>\n",
       "      <td>60</td>\n",
       "      <td>Online</td>\n",
       "      <td>Mrs.</td>\n",
       "      <td>Midnight</td>\n",
       "    </tr>\n",
       "  </tbody>\n",
       "</table>\n",
       "<p>893 rows × 10 columns</p>\n",
       "</div>"
      ],
      "text/plain": [
       "     order_id        date        item_name  item_type  item_price  quantity  \\\n",
       "0           2   8-23-2022          Vadapav   Fastfood          20        15   \n",
       "1           3  11-20-2022          Vadapav   Fastfood          20         1   \n",
       "2           4  02-03-2023  Sugarcane juice  Beverages          25         6   \n",
       "3           5  10-02-2022  Sugarcane juice  Beverages          25         8   \n",
       "4           6  11-14-2022          Vadapav   Fastfood          20        10   \n",
       "..        ...         ...              ...        ...         ...       ...   \n",
       "888       992  10-21-2022         Sandwich   Fastfood          60         5   \n",
       "889       993   7-17-2022          Frankie   Fastfood          50         3   \n",
       "890       994  11-01-2022         Panipuri   Fastfood          20         2   \n",
       "891       995   6-18-2022  Sugarcane juice  Beverages          25         1   \n",
       "892      1000   5-29-2022         Aalopuri   Fastfood          20         3   \n",
       "\n",
       "     transaction_amount transaction_type received_by time_of_sale  \n",
       "0                   300             Cash         Mr.    Afternoon  \n",
       "1                    20             Cash         Mr.    Afternoon  \n",
       "2                   150           Online         Mr.        Night  \n",
       "3                   200           Online         Mr.      Evening  \n",
       "4                   200             Cash         Mr.      Evening  \n",
       "..                  ...              ...         ...          ...  \n",
       "888                 300             Cash         Mr.      Morning  \n",
       "889                 150           Online        Mrs.        Night  \n",
       "890                  40           Online        Mrs.      Evening  \n",
       "891                  25           Online         Mr.        Night  \n",
       "892                  60           Online        Mrs.     Midnight  \n",
       "\n",
       "[893 rows x 10 columns]"
      ]
     },
     "execution_count": 8,
     "metadata": {},
     "output_type": "execute_result"
    }
   ],
   "source": [
    "# memperbaiki value date dengan replace pemisah format agar konsisten dan dapat diconvert\n",
    "\n",
    "new_df['date'] = new_df['date'].str.replace('/', '-')\n",
    "\n",
    "\n",
    "new_df\n",
    "\n"
   ]
  },
  {
   "cell_type": "code",
   "execution_count": 9,
   "metadata": {},
   "outputs": [
    {
     "data": {
      "text/plain": [
       "0     2022-08-23\n",
       "1     2022-11-20\n",
       "2     2023-02-03\n",
       "3     2022-10-02\n",
       "4     2022-11-14\n",
       "         ...    \n",
       "888   2022-10-21\n",
       "889   2022-07-17\n",
       "890   2022-11-01\n",
       "891   2022-06-18\n",
       "892   2022-05-29\n",
       "Name: date, Length: 893, dtype: datetime64[ns]"
      ]
     },
     "execution_count": 9,
     "metadata": {},
     "output_type": "execute_result"
    }
   ],
   "source": [
    "# convert data type column date dari object menjadi datetime\n",
    "\n",
    "new_df['date'] = pd.to_datetime(new_df.date)\n",
    "\n",
    "new_df['date']\n",
    "\n"
   ]
  },
  {
   "cell_type": "markdown",
   "metadata": {},
   "source": [
    "Analisis dan perhitungan"
   ]
  },
  {
   "cell_type": "code",
   "execution_count": 10,
   "metadata": {},
   "outputs": [
    {
     "name": "stdout",
     "output_type": "stream",
     "text": [
      "item price\n",
      "mean item price : 33.359462486002236\n",
      "median item price : 25.0\n",
      "modus item price : 0    20\n",
      "Name: item_price, dtype: int64\n",
      "----------------------\n",
      "transaction amount\n",
      "mean transaction amount : 272.6035834266517\n",
      "median transaction amount : 240.0\n",
      "modus transaction amount : 0    300\n",
      "Name: transaction_amount, dtype: int64\n"
     ]
    }
   ],
   "source": [
    "# Central tendency\n",
    "\n",
    "print('item price')\n",
    "print('mean item price :', new_df['item_price'].mean())\n",
    "print('median item price :', new_df['item_price'].median())\n",
    "print('modus item price :', new_df['item_price'].mode())\n",
    "\n",
    "print('----------------------')\n",
    "print('transaction amount')\n",
    "print('mean transaction amount :', new_df['transaction_amount'].mean())\n",
    "print('median transaction amount :', new_df['transaction_amount'].median())\n",
    "print('modus transaction amount :', new_df['transaction_amount'].mode())\n",
    "\n",
    "\n",
    "\n"
   ]
  },
  {
   "cell_type": "code",
   "execution_count": 11,
   "metadata": {},
   "outputs": [
    {
     "name": "stdout",
     "output_type": "stream",
     "text": [
      "item price standar deviation: 15.000807621830539\n",
      "transaction amount standar deviation: 202.45763457771565\n"
     ]
    }
   ],
   "source": [
    "# measurement of dispersion\n",
    "# standar deviasi\n",
    "\n",
    "print('item price standar deviation:', new_df['item_price'].std())\n",
    "\n",
    "print('transaction amount standar deviation:', new_df['transaction_amount'].std())"
   ]
  },
  {
   "cell_type": "code",
   "execution_count": 12,
   "metadata": {},
   "outputs": [
    {
     "name": "stdout",
     "output_type": "stream",
     "text": [
      "item price\n",
      "skewness item price: 0.6205197112466679\n",
      "kurtosis item price: -1.1924517976419096\n",
      "\n",
      "\n",
      "transaction amount\n",
      "skewness transaction amount: 1.0701954176444866\n",
      "kurtosis transaction amount: 0.711647393463644\n"
     ]
    }
   ],
   "source": [
    "# normality test\n",
    "\n",
    "# item price \n",
    "\n",
    "print('item price')\n",
    "print('skewness item price:', new_df['item_price'].skew())\n",
    "print('kurtosis item price:', new_df['item_price'].kurtosis())\n",
    "print('\\n')\n",
    "\n",
    "# transaction amount\n",
    "\n",
    "print('transaction amount')\n",
    "print('skewness transaction amount:', new_df['transaction_amount'].skew())\n",
    "print('kurtosis transaction amount:', new_df['transaction_amount'].kurtosis())\n"
   ]
  },
  {
   "cell_type": "markdown",
   "metadata": {},
   "source": [
    "data moderatly skewed dan tidak normal"
   ]
  },
  {
   "cell_type": "code",
   "execution_count": 13,
   "metadata": {},
   "outputs": [
    {
     "data": {
      "image/png": "[encoded data removed]",
      "text/plain": [
       "<Figure size 640x480 with 1 Axes>"
      ]
     },
     "metadata": {},
     "output_type": "display_data"
    }
   ],
   "source": [
    "# visualisasi data\n",
    "\n",
    "\n",
    "import matplotlib.pyplot as plt\n",
    "import seaborn as sns\n",
    "\n",
    "sns.histplot(new_df['item_price'])\n",
    "plt.show()"
   ]
  },
  {
   "cell_type": "markdown",
   "metadata": {},
   "source": [
    "Visualisasi di atas merupakan persebaran data pada item price, dapat diketahui bahwa harga item/menu di kisaran 20 hingga 60 dengan catatan tidak ada item yang memiliki harga 30-35 dan 45 serta 55. serta jika dilihat dari persebaran tersebut, terlihat bahwa jumlah item yang terjual paling banyak yaitu item yang memiliki harga 20"
   ]
  },
  {
   "cell_type": "code",
   "execution_count": 89,
   "metadata": {},
   "outputs": [
    {
     "data": {
      "text/plain": [
       "<Axes: >"
      ]
     },
     "execution_count": 89,
     "metadata": {},
     "output_type": "execute_result"
    },
    {
     "data": {
      "image/png": "[encoded data removed]",
      "text/plain": [
       "<Figure size 640x480 with 1 Axes>"
      ]
     },
     "metadata": {},
     "output_type": "display_data"
    }
   ],
   "source": [
    "fig = plt\n",
    "new_df['item_price'].plot(kind='box')"
   ]
  },
  {
   "cell_type": "code",
   "execution_count": 91,
   "metadata": {},
   "outputs": [
    {
     "name": "stdout",
     "output_type": "stream",
     "text": [
      "upper boundary: 95.00\n",
      "lower boundary: -25.00\n",
      "Percentage of outliers: 0.00%%\n"
     ]
    }
   ],
   "source": [
    "# outliers & extreme value analysis\n",
    "\n",
    "# tukey's rule\n",
    "\n",
    "# item price\n",
    "\n",
    "q1 = new_df['item_price'].quantile(0.25)\n",
    "q3 = new_df['item_price'].quantile(0.75)\n",
    "iqr = q3-q1\n",
    "\n",
    "up_bound = q3 + 1.5*iqr\n",
    "low_bound = q1 - 1.5*iqr\n",
    "\n",
    "\n",
    "print(f'upper boundary: {up_bound:.2f}')\n",
    "print(f'lower boundary: {low_bound:.2f}')\n",
    "\n",
    "outlier = new_df['item_price'][(new_df['item_price']<low_bound) | (new_df['item_price']>up_bound)]\n",
    "no_outlier = new_df['item_price'][(new_df['item_price']>=low_bound) & (new_df['item_price']<=up_bound)]\n",
    "\n",
    "print(f'Percentage of outliers: {len(outlier)*100/len(new_df[\"item_price\"]):.2f}%%')\n",
    "\n",
    "\n",
    "\n",
    "\n"
   ]
  },
  {
   "cell_type": "code",
   "execution_count": 92,
   "metadata": {},
   "outputs": [
    {
     "name": "stdout",
     "output_type": "stream",
     "text": [
      "upper boundary: 720.00\n",
      "lower boundary: -240.00\n",
      "Percentage of outliers: 4.26%%\n"
     ]
    }
   ],
   "source": [
    "# outliers & extreme value analysis\n",
    "\n",
    "# tukey's rule\n",
    "\n",
    "# transaction amount\n",
    "\n",
    "q1 = new_df['transaction_amount'].quantile(0.25)\n",
    "q3 = new_df['transaction_amount'].quantile(0.75)\n",
    "iqr = q3-q1\n",
    "\n",
    "up_bound = q3 + 1.5*iqr\n",
    "low_bound = q1 - 1.5*iqr\n",
    "\n",
    "\n",
    "print(f'upper boundary: {up_bound:.2f}')\n",
    "print(f'lower boundary: {low_bound:.2f}')\n",
    "\n",
    "outlier = new_df['transaction_amount'][(new_df['transaction_amount']<low_bound) | (new_df['transaction_amount']>up_bound)]\n",
    "no_outlier = new_df['transaction_amount'][(new_df['transaction_amount']>=low_bound) & (new_df['transaction_amount']<=up_bound)]\n",
    "\n",
    "print(f'Percentage of outliers: {len(outlier)*100/len(new_df[\"transaction_amount\"]):.2f}%%')\n"
   ]
  },
  {
   "cell_type": "code",
   "execution_count": 61,
   "metadata": {},
   "outputs": [
    {
     "data": {
      "image/png": "[encoded data removed]",
      "text/plain": [
       "<Figure size 640x480 with 1 Axes>"
      ]
     },
     "metadata": {},
     "output_type": "display_data"
    }
   ],
   "source": [
    "# Bar chart jumlah transaksi per bulan\n",
    "\n",
    "new_df['bulan'] = new_df['date'].dt.to_period('M')\n",
    "\n",
    "order_bulan = sorted(new_df['bulan'].unique())\n",
    "new_df['bulan'] = pd.Categorical(new_df['bulan'], categories=order_bulan, ordered=True)\n",
    "\n",
    "transaksi_per_bulan = new_df.groupby('bulan')['transaction_amount'].sum()\n",
    "transaksi_per_bulan = transaksi_per_bulan.sort_index()\n",
    "\n",
    "plt.bar(transaksi_per_bulan.index.astype(str), transaksi_per_bulan.values)\n",
    "plt.xlabel('bulan')\n",
    "plt.ylabel('jumlah transaksi')\n",
    "plt.xticks(range(0, 12), ['Apr', 'May', 'Jun', 'Jul', 'Aug', 'Sep', 'Okt', 'Nov', 'Des', 'Jan', 'Feb', 'Mar'])\n",
    "plt.show()"
   ]
  },
  {
   "cell_type": "code",
   "execution_count": 18,
   "metadata": {},
   "outputs": [
    {
     "name": "stderr",
     "output_type": "stream",
     "text": [
      "c:\\ProgramData\\anaconda3\\Lib\\site-packages\\seaborn\\axisgrid.py:118: UserWarning: The figure layout has changed to tight\n",
      "  self._figure.tight_layout(*args, **kwargs)\n"
     ]
    },
    {
     "data": {
      "text/plain": [
       "<seaborn.axisgrid.FacetGrid at 0x1456f81d890>"
      ]
     },
     "execution_count": 18,
     "metadata": {},
     "output_type": "execute_result"
    },
    {
     "data": {
      "image/png": "[encoded data removed]",
      "text/plain": [
       "<Figure size 500x500 with 1 Axes>"
      ]
     },
     "metadata": {},
     "output_type": "display_data"
    }
   ],
   "source": [
    "# Scatter plot korelasi kuantitas dan jumlah transaksi\n",
    "\n",
    "sns.lmplot(data=new_df,x='quantity', y='transaction_amount')"
   ]
  },
  {
   "cell_type": "markdown",
   "metadata": {},
   "source": [
    "Dari visualisasi scatter plot diatas, diketahui terdapat hubungan positif antara kuantitas dan jumlah total transaksi, dimana semakin banyak jumlah item yang dibeli, semakin banyak jumlah total transaksi."
   ]
  },
  {
   "cell_type": "code",
   "execution_count": 22,
   "metadata": {},
   "outputs": [
    {
     "data": {
      "image/png": "[encoded data removed]",
      "text/plain": [
       "<Figure size 640x480 with 1 Axes>"
      ]
     },
     "metadata": {},
     "output_type": "display_data"
    }
   ],
   "source": [
    "# scatter plot kuantitas dan jumlah traqnsaksi berdasarkan tipe transakasi\n",
    "\n",
    "\n",
    "sns.scatterplot(x='quantity', y='transaction_amount', hue='transaction_type', data=new_df)\n",
    "# Lakukan hal yang sama untuk tipe transaksi lainnya\n",
    "\n",
    "# Tambahkan label dan judul\n",
    "plt.xlabel('quantity')\n",
    "plt.ylabel('transaction_amount')\n",
    "plt.title('Scatter Plot Jumlah vs Total Transaksi Berdasarkan Tipe Transaksi')\n",
    "plt.show()"
   ]
  },
  {
   "cell_type": "markdown",
   "metadata": {},
   "source": [
    "Dari visualisi scatter plot diatas yang dikategorikan berdasarkan tipe transaksi(cash dan online), diketahui terdapat kecenderungan customer menggunakan tipe transaksi cash untuk jumlah transaksi yang banyak."
   ]
  },
  {
   "cell_type": "code",
   "execution_count": 23,
   "metadata": {},
   "outputs": [],
   "source": [
    "new_df.to_csv('dataframe_balaji_sales.csv', index=False)"
   ]
  },
  {
   "cell_type": "code",
   "execution_count": 32,
   "metadata": {},
   "outputs": [
    {
     "name": "stdout",
     "output_type": "stream",
     "text": [
      "r-correlation (pearson): 0.63\n",
      "rhoe-correlation (spearman): 0.57\n"
     ]
    }
   ],
   "source": [
    "print(f'r-correlation (pearson): {new_df[\"item_price\"].corr(new_df[\"transaction_amount\"]):.2f}')\n",
    "\n",
    "print(f'rhoe-correlation (spearman): {new_df[\"item_price\"].corr(new_df[\"transaction_amount\"], method=\"spearman\"):.2f}')\n",
    "\n"
   ]
  },
  {
   "cell_type": "markdown",
   "metadata": {},
   "source": [
    "Statistik inferensial"
   ]
  },
  {
   "cell_type": "code",
   "execution_count": 62,
   "metadata": {},
   "outputs": [
    {
     "name": "stdout",
     "output_type": "stream",
     "text": [
      "H0 : tidak ada korelasi antara harga item dan jumlah transaksi\n",
      "H1 : terdapat korelasi antara harga item dan jumlah transaksi\n",
      "--------------------------\n",
      "korelasi pearson: 0.63\n",
      "p-value: 0.0000\n",
      "korelasi spearman: 0.57\n",
      "p_val: 0.0000\n",
      "\n",
      "\n",
      "jika p-value < 0.05 = H0 ditolak\n",
      "0.000000 < 0.05 \n",
      "H0 ditolak\n",
      "sehingga, terdapat korelasi antara harga item dengan jumlah total transakasi\n"
     ]
    }
   ],
   "source": [
    "# korelasi item price dengan transaction amount\n",
    "\n",
    "\n",
    "# hipotesis\n",
    "print('H0 : tidak ada korelasi antara harga item dan jumlah transaksi')\n",
    "print('H1 : terdapat korelasi antara harga item dan jumlah transaksi')\n",
    "print('--------------------------')\n",
    "\n",
    "from scipy.stats import pearsonr\n",
    "\n",
    "korelasi, p_value = pearsonr(new_df['item_price'], new_df['transaction_amount'])\n",
    "\n",
    "print(f'korelasi pearson: {korelasi:.2f}')\n",
    "print(f'p-value: {p_value:.4f}')\n",
    "\n",
    "\n",
    "from scipy.stats import spearmanr\n",
    "\n",
    "corelation, p_val = spearmanr(new_df['item_price'], new_df['transaction_amount'])\n",
    "print(f'korelasi spearman: {corelation:.2f}')\n",
    "print(f'p_val: {p_val:.4f}')\n",
    "print('\\n')\n",
    "print('jika p-value < 0.05 = H0 ditolak')\n",
    "print(f'{p_val:4f} < 0.05 ')\n",
    "print('H0 ditolak')\n",
    "print('sehingga, terdapat korelasi antara harga item dengan jumlah total transakasi')\n"
   ]
  },
  {
   "cell_type": "markdown",
   "metadata": {},
   "source": [
    "Pengambilan Kesimpulan\n",
    "1. Tren penjualan berdasarkan data yang dianalisis divisualisasikan, menunjukkan transaksi tertinggi terjadi pada saat malam hari, sehingga Balaji Restaurant perlu mempertimbangkan untuk menambah menu yang cocok dimalam hari, seperti hot coffee agar transaksi dimalam hari menjadi lebih maksimal.\n",
    "\n",
    "2. Persentase jenis transaksi menunjukkan bahwa customer lebih banyak menggunakan jenis transaksi cash, yaitu sebesar 53% dan terdapat kecenderungan semakin tinggi nilai transaksi, customer memilih metode pembayaran secara cash. Sehingga Balaji Food Restaurant sebaiknya menyiapkan pecahan uang kembalian sehingga metode pembayaran secara cash tidak terhambat.\n",
    "\n",
    "3. Perlu mempertimbangkan untuk menambah menu, terutama pada menu minuman karena saat ini hanya terdapat 2 menu minuman sehingga customer tidak memiliki banyak piilihan. Sebagai alternatif menu minuman, restoran dapat menambah menu jus selain jus tebu, dikarenakan penjualan es jus tebu tinggi pada siang hari, sehingga untuk dapat meningkatkan potensi pendapatan dari minuman, dapat menambah menu minuman jus lain yang cocok diminum di siang hari yang panas.\n",
    "\n",
    "4. Sebaiknya menu restoran berada di kisaran harga 20, dikarenakan berdasarkan data tren transaksi menunjukkan menu dengan harga 20 terjual lebih banyak dibanding menu dengan harga yang lebih tinggi. Sehingga diperlukan penyesuaian menu seperti penggantian menu mahal yang tidak terlalu diminati customer menjadi menu yang harganya lebih bersahabat dan dapat dijangkau semua kalangan. "
   ]
  },
  {
   "cell_type": "markdown",
   "metadata": {},
   "source": [
    "Link Dashboard Tableau"
   ]
  },
  {
   "cell_type": "markdown",
   "metadata": {},
   "source": [
    "https://public.tableau.com/views/TrendTransaksiApril2022-Maret2023/Dashboard2?:language=en-US&publish=yes&:display_count=n&:origin=viz_share_link"
   ]
  }
 ],
 "metadata": {
  "kernelspec": {
   "display_name": "base",
   "language": "python",
   "name": "python3"
  },
  "language_info": {
   "codemirror_mode": {
    "name": "ipython",
    "version": 3
   },
   "file_extension": ".py",
   "mimetype": "text/x-python",
   "name": "python",
   "nbconvert_exporter": "python",
   "pygments_lexer": "ipython3",
   "version": "3.11.5"
  }
 },
 "nbformat": 4,
 "nbformat_minor": 2
}
